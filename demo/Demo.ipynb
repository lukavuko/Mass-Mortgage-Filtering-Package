{
 "cells": [
  {
   "cell_type": "markdown",
   "id": "seven-victor",
   "metadata": {},
   "source": [
    "# How to use the Mortgage Filter\n",
    "\n",
    "***\n",
    "\n",
    "Lets start by importing the package and any associated packages."
   ]
  },
  {
   "cell_type": "code",
   "execution_count": 1,
   "id": "introductory-underwear",
   "metadata": {},
   "outputs": [],
   "source": [
    "from mortgage_filter import *\n",
    "\n",
    "import pandas as pd, numpy as np, matplotlib.pyplot as plt"
   ]
  },
  {
   "cell_type": "markdown",
   "id": "welsh-commissioner",
   "metadata": {},
   "source": [
    "### Demo Data: Average housing prices by area in and around Vancouver, British Columbia\n",
    "\n",
    "- Data Structure:\n",
    "    - The mortgage filter is currently designed to work on dataframes with two columns.\n",
    "    - One column for the property/area\n",
    "    - A second column for the price\n"
   ]
  },
  {
   "cell_type": "code",
   "execution_count": 2,
   "id": "overall-external",
   "metadata": {},
   "outputs": [
    {
     "data": {
      "text/html": [
       "<div>\n",
       "<style scoped>\n",
       "    .dataframe tbody tr th:only-of-type {\n",
       "        vertical-align: middle;\n",
       "    }\n",
       "\n",
       "    .dataframe tbody tr th {\n",
       "        vertical-align: top;\n",
       "    }\n",
       "\n",
       "    .dataframe thead th {\n",
       "        text-align: right;\n",
       "    }\n",
       "</style>\n",
       "<table border=\"1\" class=\"dataframe\">\n",
       "  <thead>\n",
       "    <tr style=\"text-align: right;\">\n",
       "      <th></th>\n",
       "      <th>Area</th>\n",
       "      <th>House Price</th>\n",
       "    </tr>\n",
       "  </thead>\n",
       "  <tbody>\n",
       "    <tr>\n",
       "      <th>0</th>\n",
       "      <td>Downtown &amp; Westside</td>\n",
       "      <td>3118200</td>\n",
       "    </tr>\n",
       "    <tr>\n",
       "      <th>1</th>\n",
       "      <td>West Vancouver</td>\n",
       "      <td>2743600</td>\n",
       "    </tr>\n",
       "    <tr>\n",
       "      <th>2</th>\n",
       "      <td>North Vancouver</td>\n",
       "      <td>1665100</td>\n",
       "    </tr>\n",
       "    <tr>\n",
       "      <th>3</th>\n",
       "      <td>Richmond</td>\n",
       "      <td>1581600</td>\n",
       "    </tr>\n",
       "    <tr>\n",
       "      <th>4</th>\n",
       "      <td>South Burnaby</td>\n",
       "      <td>1564000</td>\n",
       "    </tr>\n",
       "  </tbody>\n",
       "</table>\n",
       "</div>"
      ],
      "text/plain": [
       "                  Area  House Price\n",
       "0  Downtown & Westside      3118200\n",
       "1       West Vancouver      2743600\n",
       "2      North Vancouver      1665100\n",
       "3             Richmond      1581600\n",
       "4        South Burnaby      1564000"
      ]
     },
     "execution_count": 2,
     "metadata": {},
     "output_type": "execute_result"
    }
   ],
   "source": [
    "properties = pd.read_csv('../data/vancouver_area_testing_set.csv', usecols = [0,1])\n",
    "properties.head()"
   ]
  },
  {
   "cell_type": "markdown",
   "id": "characteristic-proof",
   "metadata": {},
   "source": [
    "### What properties can we afford?\n",
    "\n",
    "- Lets assume the following parameters:\n",
    "    - downpayment of **\\$190,000**\n",
    "    - monthly payments of **\\$4,800**|\n",
    "    - mortgage rate?\n",
    "    \n",
    "Since we may not know have a reasonable guess, let's specify a term length.\n",
    "\n",
    "*The interest rate typically depends on how long the term lasts with the bank.*\n",
    "\n",
    "Let's try a term of **15 years.**"
   ]
  },
  {
   "cell_type": "code",
   "execution_count": 3,
   "id": "worse-oxide",
   "metadata": {},
   "outputs": [
    {
     "name": "stdout",
     "output_type": "stream",
     "text": [
      "Lengths greater than 10 years are not typically available. \n",
      "Terms must range from 1 to 10 years, but calculation will be performed anyway.\n",
      "You can afford 5 properties from the 25 you've provided.\n"
     ]
    },
    {
     "data": {
      "text/html": [
       "<div>\n",
       "<style scoped>\n",
       "    .dataframe tbody tr th:only-of-type {\n",
       "        vertical-align: middle;\n",
       "    }\n",
       "\n",
       "    .dataframe tbody tr th {\n",
       "        vertical-align: top;\n",
       "    }\n",
       "\n",
       "    .dataframe thead th {\n",
       "        text-align: right;\n",
       "    }\n",
       "</style>\n",
       "<table border=\"1\" class=\"dataframe\">\n",
       "  <thead>\n",
       "    <tr style=\"text-align: right;\">\n",
       "      <th></th>\n",
       "      <th>Property/Area</th>\n",
       "      <th>Price</th>\n",
       "      <th>Minimum_Downpayment</th>\n",
       "      <th>Mortgage_Insurance</th>\n",
       "      <th>Principal</th>\n",
       "      <th>Monthly_Payment</th>\n",
       "      <th>Shortest_Amortization</th>\n",
       "      <th>Total_Interest</th>\n",
       "      <th>Net_Cost</th>\n",
       "    </tr>\n",
       "  </thead>\n",
       "  <tbody>\n",
       "    <tr>\n",
       "      <th>20</th>\n",
       "      <td>Pitt Meadows</td>\n",
       "      <td>974800</td>\n",
       "      <td>72480.0</td>\n",
       "      <td>18793.83</td>\n",
       "      <td>803593.83</td>\n",
       "      <td>4767.48</td>\n",
       "      <td>24</td>\n",
       "      <td>569440.84</td>\n",
       "      <td>1563034.67</td>\n",
       "    </tr>\n",
       "    <tr>\n",
       "      <th>21</th>\n",
       "      <td>North Delta</td>\n",
       "      <td>972500</td>\n",
       "      <td>72250.0</td>\n",
       "      <td>18702.26</td>\n",
       "      <td>801202.26</td>\n",
       "      <td>4753.29</td>\n",
       "      <td>24</td>\n",
       "      <td>567746.53</td>\n",
       "      <td>1558948.79</td>\n",
       "    </tr>\n",
       "    <tr>\n",
       "      <th>22</th>\n",
       "      <td>Maple Ridge</td>\n",
       "      <td>884200</td>\n",
       "      <td>63420.0</td>\n",
       "      <td>0.00</td>\n",
       "      <td>694200.00</td>\n",
       "      <td>4698.63</td>\n",
       "      <td>19</td>\n",
       "      <td>377088.77</td>\n",
       "      <td>1261288.77</td>\n",
       "    </tr>\n",
       "    <tr>\n",
       "      <th>23</th>\n",
       "      <td>Abbotsford</td>\n",
       "      <td>873600</td>\n",
       "      <td>62360.0</td>\n",
       "      <td>0.00</td>\n",
       "      <td>683600.00</td>\n",
       "      <td>4782.72</td>\n",
       "      <td>18</td>\n",
       "      <td>349446.77</td>\n",
       "      <td>1223046.77</td>\n",
       "    </tr>\n",
       "    <tr>\n",
       "      <th>24</th>\n",
       "      <td>Mission</td>\n",
       "      <td>726000</td>\n",
       "      <td>47600.0</td>\n",
       "      <td>0.00</td>\n",
       "      <td>536000.00</td>\n",
       "      <td>4662.46</td>\n",
       "      <td>13</td>\n",
       "      <td>191344.02</td>\n",
       "      <td>917344.02</td>\n",
       "    </tr>\n",
       "  </tbody>\n",
       "</table>\n",
       "</div>"
      ],
      "text/plain": [
       "   Property/Area   Price  Minimum_Downpayment  Mortgage_Insurance  Principal  \\\n",
       "20  Pitt Meadows  974800              72480.0            18793.83  803593.83   \n",
       "21   North Delta  972500              72250.0            18702.26  801202.26   \n",
       "22   Maple Ridge  884200              63420.0                0.00  694200.00   \n",
       "23    Abbotsford  873600              62360.0                0.00  683600.00   \n",
       "24       Mission  726000              47600.0                0.00  536000.00   \n",
       "\n",
       "    Monthly_Payment  Shortest_Amortization  Total_Interest    Net_Cost  \n",
       "20          4767.48                     24       569440.84  1563034.67  \n",
       "21          4753.29                     24       567746.53  1558948.79  \n",
       "22          4698.63                     19       377088.77  1261288.77  \n",
       "23          4782.72                     18       349446.77  1223046.77  \n",
       "24          4662.46                     13       191344.02   917344.02  "
      ]
     },
     "execution_count": 3,
     "metadata": {},
     "output_type": "execute_result"
    }
   ],
   "source": [
    "property_filter(property_data = properties,\n",
    "                downpayment = 190000,\n",
    "                mortgage_term = 15,\n",
    "                max_monthly_payment = 4800)"
   ]
  },
  {
   "cell_type": "markdown",
   "id": "isolated-auckland",
   "metadata": {},
   "source": [
    "### We're left with what?\n",
    "- We're left with all the affordable home indexes as well as:\n",
    "    - the listed prices\n",
    "    - the minimum downpayment (5% of value)\n",
    "    - the mortgage insurance\n",
    "    - the principal (price - downpayment) \n",
    "    - the optimal monthly payment for the shortest amortization period (years)\n",
    "    - the cumulative interst\n",
    "    - the net cost\n",
    "- We note there's a printed warning saying that terms must be less than or equal to 10 years (banks don't typically offer terms beyond 10 years).\n",
    "\n",
    "    The function can handles the exception and **extrapolates from the term to interest rate function; however, this could yield misleading interest rates.**\n",
    "    \n",
    "    Lets see what the function looks like (interest as a function of term length):"
   ]
  },
  {
   "cell_type": "code",
   "execution_count": 4,
   "id": "dated-elimination",
   "metadata": {},
   "outputs": [
    {
     "name": "stdout",
     "output_type": "stream",
     "text": [
      "Lengths greater than 10 years are not typically available. \n",
      "Terms must range from 1 to 10 years, but calculation will be performed anyway.\n",
      "Lengths greater than 10 years are not typically available. \n",
      "Terms must range from 1 to 10 years, but calculation will be performed anyway.\n",
      "Lengths greater than 10 years are not typically available. \n",
      "Terms must range from 1 to 10 years, but calculation will be performed anyway.\n",
      "Lengths greater than 10 years are not typically available. \n",
      "Terms must range from 1 to 10 years, but calculation will be performed anyway.\n"
     ]
    },
    {
     "data": {
      "image/png": "[encoded data removed]",
      "text/plain": [
       "<Figure size 432x288 with 1 Axes>"
      ]
     },
     "metadata": {
      "needs_background": "light"
     },
     "output_type": "display_data"
    }
   ],
   "source": [
    "terms = np.arange(1, 15)\n",
    "rate = [mort_rate(t) for t in terms]\n",
    "   \n",
    "plt.plot(terms, rate)\n",
    "plt.xlabel('Terms'); plt.ylabel('Interest Rate as %')\n",
    "plt.axvline(x = 10, linestyle='--', color = 'black')\n",
    "plt.grid()\n",
    "\n",
    "plt.savefig('output_7_1.png')\n",
    "plt.show()"
   ]
  },
  {
   "cell_type": "markdown",
   "id": "noted-eclipse",
   "metadata": {},
   "source": [
    "### Okay, now lets try using a mortgage rate of our own, say 2.8%."
   ]
  },
  {
   "cell_type": "code",
   "execution_count": 5,
   "id": "disturbed-mauritius",
   "metadata": {},
   "outputs": [
    {
     "name": "stdout",
     "output_type": "stream",
     "text": [
      "You can afford 5 properties from the 25 you've provided.\n"
     ]
    },
    {
     "data": {
      "text/html": [
       "<div>\n",
       "<style scoped>\n",
       "    .dataframe tbody tr th:only-of-type {\n",
       "        vertical-align: middle;\n",
       "    }\n",
       "\n",
       "    .dataframe tbody tr th {\n",
       "        vertical-align: top;\n",
       "    }\n",
       "\n",
       "    .dataframe thead th {\n",
       "        text-align: right;\n",
       "    }\n",
       "</style>\n",
       "<table border=\"1\" class=\"dataframe\">\n",
       "  <thead>\n",
       "    <tr style=\"text-align: right;\">\n",
       "      <th></th>\n",
       "      <th>Property/Area</th>\n",
       "      <th>Price</th>\n",
       "      <th>Minimum_Downpayment</th>\n",
       "      <th>Mortgage_Insurance</th>\n",
       "      <th>Principal</th>\n",
       "      <th>Monthly_Payment</th>\n",
       "      <th>Shortest_Amortization</th>\n",
       "      <th>Total_Interest</th>\n",
       "      <th>Net_Cost</th>\n",
       "    </tr>\n",
       "  </thead>\n",
       "  <tbody>\n",
       "    <tr>\n",
       "      <th>20</th>\n",
       "      <td>Pitt Meadows</td>\n",
       "      <td>974800</td>\n",
       "      <td>72480.0</td>\n",
       "      <td>18793.83</td>\n",
       "      <td>803593.83</td>\n",
       "      <td>4740.54</td>\n",
       "      <td>18</td>\n",
       "      <td>220350.90</td>\n",
       "      <td>1213944.73</td>\n",
       "    </tr>\n",
       "    <tr>\n",
       "      <th>21</th>\n",
       "      <td>North Delta</td>\n",
       "      <td>972500</td>\n",
       "      <td>72250.0</td>\n",
       "      <td>18702.26</td>\n",
       "      <td>801202.26</td>\n",
       "      <td>4726.43</td>\n",
       "      <td>18</td>\n",
       "      <td>219695.22</td>\n",
       "      <td>1210897.48</td>\n",
       "    </tr>\n",
       "    <tr>\n",
       "      <th>22</th>\n",
       "      <td>Maple Ridge</td>\n",
       "      <td>884200</td>\n",
       "      <td>63420.0</td>\n",
       "      <td>0.00</td>\n",
       "      <td>694200.00</td>\n",
       "      <td>4727.53</td>\n",
       "      <td>15</td>\n",
       "      <td>156743.49</td>\n",
       "      <td>1040943.49</td>\n",
       "    </tr>\n",
       "    <tr>\n",
       "      <th>23</th>\n",
       "      <td>Abbotsford</td>\n",
       "      <td>873600</td>\n",
       "      <td>62360.0</td>\n",
       "      <td>0.00</td>\n",
       "      <td>683600.00</td>\n",
       "      <td>4655.34</td>\n",
       "      <td>15</td>\n",
       "      <td>154350.26</td>\n",
       "      <td>1027950.26</td>\n",
       "    </tr>\n",
       "    <tr>\n",
       "      <th>24</th>\n",
       "      <td>Mission</td>\n",
       "      <td>726000</td>\n",
       "      <td>47600.0</td>\n",
       "      <td>0.00</td>\n",
       "      <td>536000.00</td>\n",
       "      <td>4722.69</td>\n",
       "      <td>11</td>\n",
       "      <td>87383.70</td>\n",
       "      <td>813383.70</td>\n",
       "    </tr>\n",
       "  </tbody>\n",
       "</table>\n",
       "</div>"
      ],
      "text/plain": [
       "   Property/Area   Price  Minimum_Downpayment  Mortgage_Insurance  Principal  \\\n",
       "20  Pitt Meadows  974800              72480.0            18793.83  803593.83   \n",
       "21   North Delta  972500              72250.0            18702.26  801202.26   \n",
       "22   Maple Ridge  884200              63420.0                0.00  694200.00   \n",
       "23    Abbotsford  873600              62360.0                0.00  683600.00   \n",
       "24       Mission  726000              47600.0                0.00  536000.00   \n",
       "\n",
       "    Monthly_Payment  Shortest_Amortization  Total_Interest    Net_Cost  \n",
       "20          4740.54                     18       220350.90  1213944.73  \n",
       "21          4726.43                     18       219695.22  1210897.48  \n",
       "22          4727.53                     15       156743.49  1040943.49  \n",
       "23          4655.34                     15       154350.26  1027950.26  \n",
       "24          4722.69                     11        87383.70   813383.70  "
      ]
     },
     "execution_count": 5,
     "metadata": {},
     "output_type": "execute_result"
    }
   ],
   "source": [
    "property_filter(property_data = properties,\n",
    "                downpayment = 190000,\n",
    "                mortgage_rate = 2.8,\n",
    "                max_monthly_payment = 4800)"
   ]
  },
  {
   "cell_type": "markdown",
   "id": "turkish-bonus",
   "metadata": {},
   "source": [
    "### Notice how the last 4 columns have lower costs now.\n",
    "\n",
    "- Lets try one more time with a high downpayment/low monthly payment scenario.\n",
    "- Lets also assume a loan limit of **\\$600,000** and **\\$700,000** to see how this might affect a buying decision."
   ]
  },
  {
   "cell_type": "code",
   "execution_count": 6,
   "id": "criminal-republic",
   "metadata": {},
   "outputs": [
    {
     "name": "stdout",
     "output_type": "stream",
     "text": [
      "You can afford 12 properties from the 25 you've provided.\n"
     ]
    },
    {
     "data": {
      "text/html": [
       "<div>\n",
       "<style scoped>\n",
       "    .dataframe tbody tr th:only-of-type {\n",
       "        vertical-align: middle;\n",
       "    }\n",
       "\n",
       "    .dataframe tbody tr th {\n",
       "        vertical-align: top;\n",
       "    }\n",
       "\n",
       "    .dataframe thead th {\n",
       "        text-align: right;\n",
       "    }\n",
       "</style>\n",
       "<table border=\"1\" class=\"dataframe\">\n",
       "  <thead>\n",
       "    <tr style=\"text-align: right;\">\n",
       "      <th></th>\n",
       "      <th>Property/Area</th>\n",
       "      <th>Price</th>\n",
       "      <th>Minimum_Downpayment</th>\n",
       "      <th>Mortgage_Insurance</th>\n",
       "      <th>Principal</th>\n",
       "      <th>Monthly_Payment</th>\n",
       "      <th>Shortest_Amortization</th>\n",
       "      <th>Total_Interest</th>\n",
       "      <th>Net_Cost</th>\n",
       "    </tr>\n",
       "  </thead>\n",
       "  <tbody>\n",
       "    <tr>\n",
       "      <th>13</th>\n",
       "      <td>Langley</td>\n",
       "      <td>1090800</td>\n",
       "      <td>218160.0</td>\n",
       "      <td>0</td>\n",
       "      <td>590800</td>\n",
       "      <td>3103.53</td>\n",
       "      <td>21</td>\n",
       "      <td>191282.32</td>\n",
       "      <td>1282082.32</td>\n",
       "    </tr>\n",
       "    <tr>\n",
       "      <th>14</th>\n",
       "      <td>Cloverdale</td>\n",
       "      <td>1087400</td>\n",
       "      <td>217480.0</td>\n",
       "      <td>0</td>\n",
       "      <td>587400</td>\n",
       "      <td>3199.21</td>\n",
       "      <td>20</td>\n",
       "      <td>180410.55</td>\n",
       "      <td>1267810.55</td>\n",
       "    </tr>\n",
       "    <tr>\n",
       "      <th>15</th>\n",
       "      <td>Central Surrey</td>\n",
       "      <td>1086300</td>\n",
       "      <td>217260.0</td>\n",
       "      <td>0</td>\n",
       "      <td>586300</td>\n",
       "      <td>3193.22</td>\n",
       "      <td>20</td>\n",
       "      <td>180065.18</td>\n",
       "      <td>1266365.18</td>\n",
       "    </tr>\n",
       "    <tr>\n",
       "      <th>16</th>\n",
       "      <td>Ladner</td>\n",
       "      <td>1042000</td>\n",
       "      <td>208400.0</td>\n",
       "      <td>0</td>\n",
       "      <td>542000</td>\n",
       "      <td>3197.35</td>\n",
       "      <td>18</td>\n",
       "      <td>148627.69</td>\n",
       "      <td>1190627.69</td>\n",
       "    </tr>\n",
       "    <tr>\n",
       "      <th>17</th>\n",
       "      <td>Port Coquitlam</td>\n",
       "      <td>1034400</td>\n",
       "      <td>206880.0</td>\n",
       "      <td>0</td>\n",
       "      <td>534400</td>\n",
       "      <td>3152.52</td>\n",
       "      <td>18</td>\n",
       "      <td>146536.03</td>\n",
       "      <td>1180936.03</td>\n",
       "    </tr>\n",
       "  </tbody>\n",
       "</table>\n",
       "</div>"
      ],
      "text/plain": [
       "     Property/Area    Price  Minimum_Downpayment  Mortgage_Insurance  \\\n",
       "13         Langley  1090800             218160.0                   0   \n",
       "14      Cloverdale  1087400             217480.0                   0   \n",
       "15  Central Surrey  1086300             217260.0                   0   \n",
       "16          Ladner  1042000             208400.0                   0   \n",
       "17  Port Coquitlam  1034400             206880.0                   0   \n",
       "\n",
       "    Principal  Monthly_Payment  Shortest_Amortization  Total_Interest  \\\n",
       "13     590800          3103.53                     21       191282.32   \n",
       "14     587400          3199.21                     20       180410.55   \n",
       "15     586300          3193.22                     20       180065.18   \n",
       "16     542000          3197.35                     18       148627.69   \n",
       "17     534400          3152.52                     18       146536.03   \n",
       "\n",
       "      Net_Cost  \n",
       "13  1282082.32  \n",
       "14  1267810.55  \n",
       "15  1266365.18  \n",
       "16  1190627.69  \n",
       "17  1180936.03  "
      ]
     },
     "execution_count": 6,
     "metadata": {},
     "output_type": "execute_result"
    }
   ],
   "source": [
    "property_filter(property_data = properties,\n",
    "                downpayment = 500000,\n",
    "                mortgage_rate = 2.8,\n",
    "                max_monthly_payment = 3200,\n",
    "                max_loan = 600000).head()"
   ]
  },
  {
   "cell_type": "code",
   "execution_count": 7,
   "id": "regular-mumbai",
   "metadata": {},
   "outputs": [
    {
     "name": "stdout",
     "output_type": "stream",
     "text": [
      "You can afford 14 properties from the 25 you've provided.\n"
     ]
    },
    {
     "data": {
      "text/html": [
       "<div>\n",
       "<style scoped>\n",
       "    .dataframe tbody tr th:only-of-type {\n",
       "        vertical-align: middle;\n",
       "    }\n",
       "\n",
       "    .dataframe tbody tr th {\n",
       "        vertical-align: top;\n",
       "    }\n",
       "\n",
       "    .dataframe thead th {\n",
       "        text-align: right;\n",
       "    }\n",
       "</style>\n",
       "<table border=\"1\" class=\"dataframe\">\n",
       "  <thead>\n",
       "    <tr style=\"text-align: right;\">\n",
       "      <th></th>\n",
       "      <th>Property/Area</th>\n",
       "      <th>Price</th>\n",
       "      <th>Minimum_Downpayment</th>\n",
       "      <th>Mortgage_Insurance</th>\n",
       "      <th>Principal</th>\n",
       "      <th>Monthly_Payment</th>\n",
       "      <th>Shortest_Amortization</th>\n",
       "      <th>Total_Interest</th>\n",
       "      <th>Net_Cost</th>\n",
       "    </tr>\n",
       "  </thead>\n",
       "  <tbody>\n",
       "    <tr>\n",
       "      <th>11</th>\n",
       "      <td>Tsawwassen</td>\n",
       "      <td>1153300</td>\n",
       "      <td>230660.0</td>\n",
       "      <td>0</td>\n",
       "      <td>653300</td>\n",
       "      <td>3117.86</td>\n",
       "      <td>24</td>\n",
       "      <td>244644.99</td>\n",
       "      <td>1397944.99</td>\n",
       "    </tr>\n",
       "    <tr>\n",
       "      <th>12</th>\n",
       "      <td>New Westminster</td>\n",
       "      <td>1127200</td>\n",
       "      <td>225440.0</td>\n",
       "      <td>0</td>\n",
       "      <td>627200</td>\n",
       "      <td>3184.83</td>\n",
       "      <td>22</td>\n",
       "      <td>213587.50</td>\n",
       "      <td>1340787.50</td>\n",
       "    </tr>\n",
       "    <tr>\n",
       "      <th>13</th>\n",
       "      <td>Langley</td>\n",
       "      <td>1090800</td>\n",
       "      <td>218160.0</td>\n",
       "      <td>0</td>\n",
       "      <td>590800</td>\n",
       "      <td>3103.53</td>\n",
       "      <td>21</td>\n",
       "      <td>191282.32</td>\n",
       "      <td>1282082.32</td>\n",
       "    </tr>\n",
       "    <tr>\n",
       "      <th>14</th>\n",
       "      <td>Cloverdale</td>\n",
       "      <td>1087400</td>\n",
       "      <td>217480.0</td>\n",
       "      <td>0</td>\n",
       "      <td>587400</td>\n",
       "      <td>3199.21</td>\n",
       "      <td>20</td>\n",
       "      <td>180410.55</td>\n",
       "      <td>1267810.55</td>\n",
       "    </tr>\n",
       "    <tr>\n",
       "      <th>15</th>\n",
       "      <td>Central Surrey</td>\n",
       "      <td>1086300</td>\n",
       "      <td>217260.0</td>\n",
       "      <td>0</td>\n",
       "      <td>586300</td>\n",
       "      <td>3193.22</td>\n",
       "      <td>20</td>\n",
       "      <td>180065.18</td>\n",
       "      <td>1266365.18</td>\n",
       "    </tr>\n",
       "  </tbody>\n",
       "</table>\n",
       "</div>"
      ],
      "text/plain": [
       "      Property/Area    Price  Minimum_Downpayment  Mortgage_Insurance  \\\n",
       "11       Tsawwassen  1153300             230660.0                   0   \n",
       "12  New Westminster  1127200             225440.0                   0   \n",
       "13          Langley  1090800             218160.0                   0   \n",
       "14       Cloverdale  1087400             217480.0                   0   \n",
       "15   Central Surrey  1086300             217260.0                   0   \n",
       "\n",
       "    Principal  Monthly_Payment  Shortest_Amortization  Total_Interest  \\\n",
       "11     653300          3117.86                     24       244644.99   \n",
       "12     627200          3184.83                     22       213587.50   \n",
       "13     590800          3103.53                     21       191282.32   \n",
       "14     587400          3199.21                     20       180410.55   \n",
       "15     586300          3193.22                     20       180065.18   \n",
       "\n",
       "      Net_Cost  \n",
       "11  1397944.99  \n",
       "12  1340787.50  \n",
       "13  1282082.32  \n",
       "14  1267810.55  \n",
       "15  1266365.18  "
      ]
     },
     "execution_count": 7,
     "metadata": {},
     "output_type": "execute_result"
    }
   ],
   "source": [
    "property_filter(property_data = properties,\n",
    "                downpayment = 500000,\n",
    "                mortgage_rate = 2.8,\n",
    "                max_monthly_payment = 3200,\n",
    "                max_loan = 700000).head()"
   ]
  },
  {
   "cell_type": "markdown",
   "id": "suited-nursing",
   "metadata": {},
   "source": [
    "### Note that no mortgage insurance is applied.\n",
    "\n",
    "***In Canada, downpayments >20% of the home price do not require mortgage insurance.***\n",
    "\n",
    "***\n",
    "\n",
    "### If you'd like to dive deeper at one scenario in particular, base functions could be used as follows:\n",
    "\n",
    "1. How quickly does cumulative interest increase as the mortgage rate increases?\n",
    "2. How does cumulative interest change as monthly contributions increase??\n",
    "3. How does the amortization period change as as monthly contributions increase?\n",
    "4. What's my monthly payment on a **\\$500,000** home for a 20 year amortization on 2% interest?\n",
    "5. How does mortgage insurance change with downpayment?\n"
   ]
  },
  {
   "cell_type": "code",
   "execution_count": 8,
   "id": "sound-injury",
   "metadata": {},
   "outputs": [],
   "source": [
    "# Parameters\n",
    "princ = 500000 # principal of 500k\n",
    "mth_pay = 2000 # monthly payment of 2k\n",
    "mort_rate = 2.0 # mortgage rate of 2%"
   ]
  },
  {
   "cell_type": "code",
   "execution_count": 9,
   "id": "indian-fence",
   "metadata": {},
   "outputs": [
    {
     "name": "stdout",
     "output_type": "stream",
     "text": [
      "Monthly contribution is insufficient to pay off the original Principal.\n"
     ]
    },
    {
     "data": {
      "image/png": "[encoded data removed]",
      "text/plain": [
       "<Figure size 432x288 with 1 Axes>"
      ]
     },
     "metadata": {
      "needs_background": "light"
     },
     "output_type": "display_data"
    }
   ],
   "source": [
    "# Question 1\n",
    "\n",
    "rate = np.linspace(1, 5, 20)\n",
    "interest = [total_interest(princ, mortgage_rate = i, monthly_payment = mth_pay) for i in rate]\n",
    "\n",
    "plt.plot(rate, interest)\n",
    "plt.ticklabel_format(axis='y', style='plain')\n",
    "plt.xlabel('Interest Rate as %'); plt.ylabel('Cumulative Interest'); plt.grid()\n",
    "\n",
    "plt.savefig('output_15_1.png')\n",
    "plt.show()"
   ]
  },
  {
   "cell_type": "code",
   "execution_count": 10,
   "id": "whole-consideration",
   "metadata": {},
   "outputs": [
    {
     "name": "stdout",
     "output_type": "stream",
     "text": [
      "Monthly contribution is insufficient to pay off the original Principal.\n"
     ]
    },
    {
     "data": {
      "image/png": "[encoded data removed]",
      "text/plain": [
       "<Figure size 432x288 with 1 Axes>"
      ]
     },
     "metadata": {
      "needs_background": "light"
     },
     "output_type": "display_data"
    }
   ],
   "source": [
    "# Question 2\n",
    "\n",
    "payments = np.linspace(800, 6000, 20)\n",
    "interest = [total_interest(princ, mort_rate, monthly_payment = p) for p in payments]\n",
    "\n",
    "plt.plot(payments, interest)\n",
    "plt.ticklabel_format(axis='y', style='plain')\n",
    "plt.xlabel('Monthly Payment Amount'); plt.ylabel('Cumulative Interest'); plt.grid()\n",
    "\n",
    "plt.savefig('output_16_1.png')\n",
    "plt.show()"
   ]
  },
  {
   "cell_type": "markdown",
   "id": "aquatic-washington",
   "metadata": {},
   "source": [
    "- Note that as the monthly payment increases, not only does cumulative interest decrease, but the amortization period decreases substantially but this isn't see in the plot above.\n",
    "- Lets just peek at how the amortization period decreases."
   ]
  },
  {
   "cell_type": "code",
   "execution_count": 11,
   "id": "invisible-arthritis",
   "metadata": {},
   "outputs": [
    {
     "data": {
      "image/png": "[encoded data removed]",
      "text/plain": [
       "<Figure size 432x288 with 1 Axes>"
      ]
     },
     "metadata": {
      "needs_background": "light"
     },
     "output_type": "display_data"
    }
   ],
   "source": [
    "# Question 3\n",
    "\n",
    "years = [optimal_monthly_payment(princ, mort_rate, max_monthly_payment = p)[1] for p in payments]\n",
    "\n",
    "plt.plot(payments, years)\n",
    "plt.xlabel('Max Monthly Payment'); plt.ylabel('Years to Pay Off'); plt.grid()\n",
    "\n",
    "plt.savefig('output_18_1.png')\n",
    "plt.show()"
   ]
  },
  {
   "cell_type": "code",
   "execution_count": 12,
   "id": "effective-method",
   "metadata": {},
   "outputs": [
    {
     "data": {
      "text/plain": [
       "2529.42"
      ]
     },
     "execution_count": 12,
     "metadata": {},
     "output_type": "execute_result"
    }
   ],
   "source": [
    "# Question 4\n",
    "\n",
    "monthly_payment(princ, mort_rate, amortization = 20)"
   ]
  },
  {
   "cell_type": "code",
   "execution_count": 13,
   "id": "directed-breakfast",
   "metadata": {},
   "outputs": [
    {
     "name": "stdout",
     "output_type": "stream",
     "text": [
      "Downpayment must be at least 5% the asset value \n",
      "Input value is too low to be legally considered.\n"
     ]
    },
    {
     "data": {
      "image/png": "[encoded data removed]",
      "text/plain": [
       "<Figure size 432x288 with 1 Axes>"
      ]
     },
     "metadata": {
      "needs_background": "light"
     },
     "output_type": "display_data"
    }
   ],
   "source": [
    "# Question 5\n",
    "downpayment_size = np.linspace(22000, 125000, 28)\n",
    "mort_ins = [mortgage_insurance(princ, d) for d in downpayment_size]\n",
    "\n",
    "plt.plot(downpayment_size, mort_ins)\n",
    "plt.xlabel('Downpayment on $500,000'); plt.ylabel('Mortgage Insurance'); plt.grid()\n",
    "\n",
    "plt.savefig('output_20_1.png')\n",
    "plt.show()"
   ]
  },
  {
   "cell_type": "markdown",
   "id": "domestic-feedback",
   "metadata": {},
   "source": [
    " - Notice how a message prints for downpayments less than 5% the property value (minimal downpayment).\n",
    " - Also notice how at a downpayment of 20% mortgage insurance no longer applies.\n",
    " \n",
    "***\n",
    "## Final Notes\n",
    "#### **I plan to continue adding features as time goes but for now I just wanted to understand and work with the fundamentals.**\n",
    "#### **If you have more questions or requests please reach out to me at my email, luka.vuko@outlook.com**\n",
    "***\n",
    "***A formal documentation is in the works but for now, a call on help will display the function docs:***\n"
   ]
  },
  {
   "cell_type": "code",
   "execution_count": 14,
   "id": "beneficial-louisville",
   "metadata": {},
   "outputs": [
    {
     "name": "stdout",
     "output_type": "stream",
     "text": [
      "Help on module mortgage_filter.mortgage_filter in mortgage_filter:\n",
      "\n",
      "NAME\n",
      "    mortgage_filter.mortgage_filter - # coding: utf-8\n",
      "\n",
      "FUNCTIONS\n",
      "    property_filter(property_data, downpayment, mortgage_rate=None, mortgage_term=None, max_monthly_payment=None, max_loan=None)\n",
      "        Given a dataframe of properties, their prices, and some basic financial information, it returns a dataframe with only the affordable properties and other affordability metrics (ie. how long it would take to pay off, monthly payments, total interest, etc.).\n",
      "            \n",
      "        Arguments\n",
      "        ----------\n",
      "        data : dataframe \n",
      "            Areas/properties in column index 0 (str)\n",
      "            Respective prices in column index 1 (numeric) \n",
      "            \n",
      "        downpayment : numeric\n",
      "            Your maximal possible downpayment\n",
      "        \n",
      "        mortgage_rate : numeric \n",
      "            Interest rate on the mortgage loan (leave empty if mortgage_term is provided)\n",
      "        \n",
      "        mortgage_term : int \n",
      "            Contract length in years (1 to 10) for the mortgage interest rate.\n",
      "            Only specify if you do not know what mortgage_rate to enter (leave empty if mortgage_rate provided)\n",
      "            \n",
      "        max_monthly_payment : numeric \n",
      "            Your max affordable or bank limited monthly payment towards your home\n",
      "            \n",
      "        max_loan : numeric\n",
      "            Max eligible loan based on your downpayment\n",
      "        \n",
      "        Return\n",
      "        ------\n",
      "        dataframe\n",
      "            Properties/Areas\n",
      "            Prices/Average area price\n",
      "            Minimum_Downpayment\n",
      "            Mortgage_Insurance\n",
      "            Principal\n",
      "            Monthly_Payment\n",
      "            Shortest_Amortization\n",
      "            Total_Interest\n",
      "            Net_Cost (assuming no other fees)\n",
      "\n",
      "FILE\n",
      "    c:\\users\\luka\\miniconda3\\lib\\site-packages\\mortgage_filter\\mortgage_filter.py\n",
      "\n",
      "\n"
     ]
    }
   ],
   "source": [
    "help(mortgage_filter)"
   ]
  },
  {
   "cell_type": "code",
   "execution_count": 15,
   "id": "basic-repair",
   "metadata": {},
   "outputs": [
    {
     "name": "stdout",
     "output_type": "stream",
     "text": [
      "Help on function total_interest in module mortgage_filter.mortgage_base:\n",
      "\n",
      "total_interest(principal, mortgage_rate, monthly_payment)\n",
      "    Returns the cumulative interest paid on a given principal, mortgage rate, and monthly payment.\n",
      "    \n",
      "    Arguments\n",
      "    ----------\n",
      "    principal : numeric\n",
      "    \n",
      "    mortgage_rate : float\n",
      "        Annual mortgage rate (loan interest)\n",
      "    \n",
      "    amortization: int\n",
      "        Amortization period in years (or in months if months == True)\n",
      "        \n",
      "    monthly_payment : bool \n",
      "        Monthly contribution towards the principal\n",
      "    \n",
      "    Return\n",
      "    ------\n",
      "    float\n",
      "        Cumulative interest paid\n",
      "\n"
     ]
    }
   ],
   "source": [
    "help(total_interest)"
   ]
  },
  {
   "cell_type": "code",
   "execution_count": 16,
   "id": "parliamentary-northeast",
   "metadata": {},
   "outputs": [
    {
     "name": "stdout",
     "output_type": "stream",
     "text": [
      "Help on function optimal_monthly_payment in module mortgage_filter.mortgage_base:\n",
      "\n",
      "optimal_monthly_payment(principal, mortgage_rate, max_monthly_payment)\n",
      "    Returns the first amortization period which has a monthly payment\n",
      "    less than your max_monthly_payment (ie. within budget). The shortest\n",
      "    possible amortization period has the lowest long term interest cost.\n",
      "    \n",
      "    Arguments\n",
      "    ----------\n",
      "    principal : numeric\n",
      "    \n",
      "    mortgage_rate : float\n",
      "          Annual mortgage rate (loan interest)\n",
      "    \n",
      "    max_monthly_payment: numeric\n",
      "        Your max affordable monthly contribution\n",
      "    \n",
      "    Return\n",
      "    ------\n",
      "    list\n",
      "        mp: monthly payment for a given amortization\n",
      "        i: amortization period in years\n",
      "\n"
     ]
    }
   ],
   "source": [
    "help(optimal_monthly_payment)"
   ]
  },
  {
   "cell_type": "code",
   "execution_count": 17,
   "id": "proper-affairs",
   "metadata": {},
   "outputs": [
    {
     "name": "stdout",
     "output_type": "stream",
     "text": [
      "Help on function mortgage_insurance in module mortgage_filter.mortgage_base:\n",
      "\n",
      "mortgage_insurance(price, downpayment)\n",
      "    Returns the cost of mortgage insurance.\n",
      "    \n",
      "    Insurance rates are calculated from loan to asset price ratio.\n",
      "    Rates are applied to the loan to generate a lump sum amount that's\n",
      "    then added to the principal of the loan to give mortgage insurance.\n",
      "    \n",
      "    Arguments\n",
      "    ----------\n",
      "    price : numeric\n",
      "        Property price\n",
      "    \n",
      "    downpayment : int or float\n",
      "        Downpayment on property\n",
      "        \n",
      "    Return\n",
      "    ------\n",
      "    float\n",
      "        Mortgage insurance\n",
      "\n"
     ]
    }
   ],
   "source": [
    "help(mortgage_insurance)"
   ]
  }
 ],
 "metadata": {
  "kernelspec": {
   "display_name": "Python 3",
   "language": "python",
   "name": "python3"
  },
  "language_info": {
   "codemirror_mode": {
    "name": "ipython",
    "version": 3
   },
   "file_extension": ".py",
   "mimetype": "text/x-python",
   "name": "python",
   "nbconvert_exporter": "python",
   "pygments_lexer": "ipython3",
   "version": "3.8.3"
  }
 },
 "nbformat": 4,
 "nbformat_minor": 5
}
