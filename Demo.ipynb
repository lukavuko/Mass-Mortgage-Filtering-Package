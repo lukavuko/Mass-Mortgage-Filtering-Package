{
 "cells": [
  {
   "cell_type": "markdown",
   "id": "heavy-mercury",
   "metadata": {},
   "source": [
    "#### Import the mortgage_package"
   ]
  },
  {
   "cell_type": "code",
   "execution_count": 1,
   "id": "cleared-motorcycle",
   "metadata": {},
   "outputs": [],
   "source": [
    "import pandas as pd, numpy as np\n",
    "import matplotlib.pyplot as plt\n",
    "import mortgage_package as mp"
   ]
  },
  {
   "cell_type": "markdown",
   "id": "vulnerable-navigator",
   "metadata": {},
   "source": [
    "#### Import the dataframe. \n",
    "\n",
    "### Let's use demo data from average home price by area from in and around Vancouver."
   ]
  },
  {
   "cell_type": "code",
   "execution_count": 2,
   "id": "upper-gates",
   "metadata": {},
   "outputs": [
    {
     "data": {
      "text/html": [
       "<div>\n",
       "<style scoped>\n",
       "    .dataframe tbody tr th:only-of-type {\n",
       "        vertical-align: middle;\n",
       "    }\n",
       "\n",
       "    .dataframe tbody tr th {\n",
       "        vertical-align: top;\n",
       "    }\n",
       "\n",
       "    .dataframe thead th {\n",
       "        text-align: right;\n",
       "    }\n",
       "</style>\n",
       "<table border=\"1\" class=\"dataframe\">\n",
       "  <thead>\n",
       "    <tr style=\"text-align: right;\">\n",
       "      <th></th>\n",
       "      <th>Area</th>\n",
       "      <th>House Price</th>\n",
       "    </tr>\n",
       "  </thead>\n",
       "  <tbody>\n",
       "    <tr>\n",
       "      <th>0</th>\n",
       "      <td>Downtown &amp; Westside</td>\n",
       "      <td>3118200</td>\n",
       "    </tr>\n",
       "    <tr>\n",
       "      <th>1</th>\n",
       "      <td>West Vancouver</td>\n",
       "      <td>2743600</td>\n",
       "    </tr>\n",
       "    <tr>\n",
       "      <th>2</th>\n",
       "      <td>North Vancouver</td>\n",
       "      <td>1665100</td>\n",
       "    </tr>\n",
       "    <tr>\n",
       "      <th>3</th>\n",
       "      <td>Richmond</td>\n",
       "      <td>1581600</td>\n",
       "    </tr>\n",
       "    <tr>\n",
       "      <th>4</th>\n",
       "      <td>South Burnaby</td>\n",
       "      <td>1564000</td>\n",
       "    </tr>\n",
       "  </tbody>\n",
       "</table>\n",
       "</div>"
      ],
      "text/plain": [
       "                  Area  House Price\n",
       "0  Downtown & Westside      3118200\n",
       "1       West Vancouver      2743600\n",
       "2      North Vancouver      1665100\n",
       "3             Richmond      1581600\n",
       "4        South Burnaby      1564000"
      ]
     },
     "execution_count": 2,
     "metadata": {},
     "output_type": "execute_result"
    }
   ],
   "source": [
    "properties = pd.read_csv('data/vancouver_area_testing_set.csv', usecols = [0,1])\n",
    "properties.head()"
   ]
  },
  {
   "cell_type": "markdown",
   "id": "banner-processor",
   "metadata": {},
   "source": [
    "#### What properties can we afford with a downpayment of 190,000 and monthly payment of 4,800? Let's try a term of 15 years."
   ]
  },
  {
   "cell_type": "code",
   "execution_count": 3,
   "id": "cubic-invalid",
   "metadata": {},
   "outputs": [
    {
     "name": "stdout",
     "output_type": "stream",
     "text": [
      "Lengths greater than 10 years are not typically available. Terms must range from 1 to 10 years, but calculation will be performed anyway.\n",
      "You can afford 5 properties from the 25 you've provided.\n"
     ]
    },
    {
     "data": {
      "text/html": [
       "<div>\n",
       "<style scoped>\n",
       "    .dataframe tbody tr th:only-of-type {\n",
       "        vertical-align: middle;\n",
       "    }\n",
       "\n",
       "    .dataframe tbody tr th {\n",
       "        vertical-align: top;\n",
       "    }\n",
       "\n",
       "    .dataframe thead th {\n",
       "        text-align: right;\n",
       "    }\n",
       "</style>\n",
       "<table border=\"1\" class=\"dataframe\">\n",
       "  <thead>\n",
       "    <tr style=\"text-align: right;\">\n",
       "      <th></th>\n",
       "      <th>Property/Area</th>\n",
       "      <th>Price</th>\n",
       "      <th>Minimum_Downpayment</th>\n",
       "      <th>Mortgage_Insurance</th>\n",
       "      <th>Principal</th>\n",
       "      <th>Monthly_Payment</th>\n",
       "      <th>Shortest_Amortization</th>\n",
       "      <th>Total_Interest</th>\n",
       "      <th>Net_Cost</th>\n",
       "    </tr>\n",
       "  </thead>\n",
       "  <tbody>\n",
       "    <tr>\n",
       "      <th>20</th>\n",
       "      <td>Pitt Meadows</td>\n",
       "      <td>974800</td>\n",
       "      <td>72480.0</td>\n",
       "      <td>18793.83</td>\n",
       "      <td>803593.83</td>\n",
       "      <td>4767.48</td>\n",
       "      <td>24</td>\n",
       "      <td>569440.84</td>\n",
       "      <td>1563034.67</td>\n",
       "    </tr>\n",
       "    <tr>\n",
       "      <th>21</th>\n",
       "      <td>North Delta</td>\n",
       "      <td>972500</td>\n",
       "      <td>72250.0</td>\n",
       "      <td>18702.26</td>\n",
       "      <td>801202.26</td>\n",
       "      <td>4753.29</td>\n",
       "      <td>24</td>\n",
       "      <td>567746.53</td>\n",
       "      <td>1558948.79</td>\n",
       "    </tr>\n",
       "    <tr>\n",
       "      <th>22</th>\n",
       "      <td>Maple Ridge</td>\n",
       "      <td>884200</td>\n",
       "      <td>63420.0</td>\n",
       "      <td>0.00</td>\n",
       "      <td>694200.00</td>\n",
       "      <td>4698.63</td>\n",
       "      <td>19</td>\n",
       "      <td>377088.77</td>\n",
       "      <td>1261288.77</td>\n",
       "    </tr>\n",
       "    <tr>\n",
       "      <th>23</th>\n",
       "      <td>Abbotsford</td>\n",
       "      <td>873600</td>\n",
       "      <td>62360.0</td>\n",
       "      <td>0.00</td>\n",
       "      <td>683600.00</td>\n",
       "      <td>4782.72</td>\n",
       "      <td>18</td>\n",
       "      <td>349446.77</td>\n",
       "      <td>1223046.77</td>\n",
       "    </tr>\n",
       "    <tr>\n",
       "      <th>24</th>\n",
       "      <td>Mission</td>\n",
       "      <td>726000</td>\n",
       "      <td>47600.0</td>\n",
       "      <td>0.00</td>\n",
       "      <td>536000.00</td>\n",
       "      <td>4662.46</td>\n",
       "      <td>13</td>\n",
       "      <td>191344.02</td>\n",
       "      <td>917344.02</td>\n",
       "    </tr>\n",
       "  </tbody>\n",
       "</table>\n",
       "</div>"
      ],
      "text/plain": [
       "   Property/Area   Price  Minimum_Downpayment  Mortgage_Insurance  Principal  \\\n",
       "20  Pitt Meadows  974800              72480.0            18793.83  803593.83   \n",
       "21   North Delta  972500              72250.0            18702.26  801202.26   \n",
       "22   Maple Ridge  884200              63420.0                0.00  694200.00   \n",
       "23    Abbotsford  873600              62360.0                0.00  683600.00   \n",
       "24       Mission  726000              47600.0                0.00  536000.00   \n",
       "\n",
       "    Monthly_Payment  Shortest_Amortization  Total_Interest    Net_Cost  \n",
       "20          4767.48                     24       569440.84  1563034.67  \n",
       "21          4753.29                     24       567746.53  1558948.79  \n",
       "22          4698.63                     19       377088.77  1261288.77  \n",
       "23          4782.72                     18       349446.77  1223046.77  \n",
       "24          4662.46                     13       191344.02   917344.02  "
      ]
     },
     "execution_count": 3,
     "metadata": {},
     "output_type": "execute_result"
    }
   ],
   "source": [
    "mp.property_filter(property_data = properties,\n",
    "                   downpayment = 190000,\n",
    "                   mortgage_term = 15,\n",
    "                   max_monthly_payment = 4800)"
   ]
  },
  {
   "cell_type": "markdown",
   "id": "upper-estate",
   "metadata": {},
   "source": [
    "#### We note the warning which is that terms must be greater than 10 years.\n",
    "\n",
    "#### Terms refers to the interest rate contract with the bank. Banks don't typically offer terms beyond 10 years but the functino handles the exception anyways.\n",
    "\n",
    "#### Lets try using a mortgage rate of our own, say 3.2%."
   ]
  },
  {
   "cell_type": "code",
   "execution_count": 4,
   "id": "hungarian-integrity",
   "metadata": {},
   "outputs": [
    {
     "name": "stdout",
     "output_type": "stream",
     "text": [
      "You can afford 5 properties from the 25 you've provided.\n"
     ]
    },
    {
     "data": {
      "text/html": [
       "<div>\n",
       "<style scoped>\n",
       "    .dataframe tbody tr th:only-of-type {\n",
       "        vertical-align: middle;\n",
       "    }\n",
       "\n",
       "    .dataframe tbody tr th {\n",
       "        vertical-align: top;\n",
       "    }\n",
       "\n",
       "    .dataframe thead th {\n",
       "        text-align: right;\n",
       "    }\n",
       "</style>\n",
       "<table border=\"1\" class=\"dataframe\">\n",
       "  <thead>\n",
       "    <tr style=\"text-align: right;\">\n",
       "      <th></th>\n",
       "      <th>Property/Area</th>\n",
       "      <th>Price</th>\n",
       "      <th>Minimum_Downpayment</th>\n",
       "      <th>Mortgage_Insurance</th>\n",
       "      <th>Principal</th>\n",
       "      <th>Monthly_Payment</th>\n",
       "      <th>Shortest_Amortization</th>\n",
       "      <th>Total_Interest</th>\n",
       "      <th>Net_Cost</th>\n",
       "    </tr>\n",
       "  </thead>\n",
       "  <tbody>\n",
       "    <tr>\n",
       "      <th>20</th>\n",
       "      <td>Pitt Meadows</td>\n",
       "      <td>974800</td>\n",
       "      <td>72480.0</td>\n",
       "      <td>18793.83</td>\n",
       "      <td>803593.83</td>\n",
       "      <td>4708.46</td>\n",
       "      <td>19</td>\n",
       "      <td>269922.39</td>\n",
       "      <td>1263516.22</td>\n",
       "    </tr>\n",
       "    <tr>\n",
       "      <th>21</th>\n",
       "      <td>North Delta</td>\n",
       "      <td>972500</td>\n",
       "      <td>72250.0</td>\n",
       "      <td>18702.26</td>\n",
       "      <td>801202.26</td>\n",
       "      <td>4694.45</td>\n",
       "      <td>19</td>\n",
       "      <td>269118.84</td>\n",
       "      <td>1260321.10</td>\n",
       "    </tr>\n",
       "    <tr>\n",
       "      <th>22</th>\n",
       "      <td>Maple Ridge</td>\n",
       "      <td>884200</td>\n",
       "      <td>63420.0</td>\n",
       "      <td>0.00</td>\n",
       "      <td>694200.00</td>\n",
       "      <td>4624.58</td>\n",
       "      <td>16</td>\n",
       "      <td>193719.74</td>\n",
       "      <td>1077919.74</td>\n",
       "    </tr>\n",
       "    <tr>\n",
       "      <th>23</th>\n",
       "      <td>Abbotsford</td>\n",
       "      <td>873600</td>\n",
       "      <td>62360.0</td>\n",
       "      <td>0.00</td>\n",
       "      <td>683600.00</td>\n",
       "      <td>4786.85</td>\n",
       "      <td>15</td>\n",
       "      <td>178020.00</td>\n",
       "      <td>1051620.00</td>\n",
       "    </tr>\n",
       "    <tr>\n",
       "      <th>24</th>\n",
       "      <td>Mission</td>\n",
       "      <td>726000</td>\n",
       "      <td>47600.0</td>\n",
       "      <td>0.00</td>\n",
       "      <td>536000.00</td>\n",
       "      <td>4487.42</td>\n",
       "      <td>12</td>\n",
       "      <td>110175.82</td>\n",
       "      <td>836175.82</td>\n",
       "    </tr>\n",
       "  </tbody>\n",
       "</table>\n",
       "</div>"
      ],
      "text/plain": [
       "   Property/Area   Price  Minimum_Downpayment  Mortgage_Insurance  Principal  \\\n",
       "20  Pitt Meadows  974800              72480.0            18793.83  803593.83   \n",
       "21   North Delta  972500              72250.0            18702.26  801202.26   \n",
       "22   Maple Ridge  884200              63420.0                0.00  694200.00   \n",
       "23    Abbotsford  873600              62360.0                0.00  683600.00   \n",
       "24       Mission  726000              47600.0                0.00  536000.00   \n",
       "\n",
       "    Monthly_Payment  Shortest_Amortization  Total_Interest    Net_Cost  \n",
       "20          4708.46                     19       269922.39  1263516.22  \n",
       "21          4694.45                     19       269118.84  1260321.10  \n",
       "22          4624.58                     16       193719.74  1077919.74  \n",
       "23          4786.85                     15       178020.00  1051620.00  \n",
       "24          4487.42                     12       110175.82   836175.82  "
      ]
     },
     "execution_count": 4,
     "metadata": {},
     "output_type": "execute_result"
    }
   ],
   "source": [
    "mp.property_filter(property_data = properties,\n",
    "                   downpayment = 190000,\n",
    "                   mortgage_rate = 3.2,\n",
    "                   max_monthly_payment = 4800)"
   ]
  },
  {
   "cell_type": "markdown",
   "id": "pregnant-virgin",
   "metadata": {},
   "source": [
    "#### Notice how the amortization, interest, and net costs have changed with the new interest rate.\n",
    "\n",
    "#### Lets try one more time with a high downpayment and low monthly payment scenario. We'll assume there's a loan limit of 650,000."
   ]
  },
  {
   "cell_type": "code",
   "execution_count": 5,
   "id": "operational-beach",
   "metadata": {},
   "outputs": [
    {
     "name": "stdout",
     "output_type": "stream",
     "text": [
      "You can afford 13 properties from the 25 you've provided.\n"
     ]
    },
    {
     "data": {
      "text/html": [
       "<div>\n",
       "<style scoped>\n",
       "    .dataframe tbody tr th:only-of-type {\n",
       "        vertical-align: middle;\n",
       "    }\n",
       "\n",
       "    .dataframe tbody tr th {\n",
       "        vertical-align: top;\n",
       "    }\n",
       "\n",
       "    .dataframe thead th {\n",
       "        text-align: right;\n",
       "    }\n",
       "</style>\n",
       "<table border=\"1\" class=\"dataframe\">\n",
       "  <thead>\n",
       "    <tr style=\"text-align: right;\">\n",
       "      <th></th>\n",
       "      <th>Property/Area</th>\n",
       "      <th>Price</th>\n",
       "      <th>Minimum_Downpayment</th>\n",
       "      <th>Mortgage_Insurance</th>\n",
       "      <th>Principal</th>\n",
       "      <th>Monthly_Payment</th>\n",
       "      <th>Shortest_Amortization</th>\n",
       "      <th>Total_Interest</th>\n",
       "      <th>Net_Cost</th>\n",
       "    </tr>\n",
       "  </thead>\n",
       "  <tbody>\n",
       "    <tr>\n",
       "      <th>12</th>\n",
       "      <td>New Westminster</td>\n",
       "      <td>1127200</td>\n",
       "      <td>225440.0</td>\n",
       "      <td>0</td>\n",
       "      <td>627200</td>\n",
       "      <td>3479.39</td>\n",
       "      <td>23</td>\n",
       "      <td>333113.80</td>\n",
       "      <td>1460313.80</td>\n",
       "    </tr>\n",
       "    <tr>\n",
       "      <th>13</th>\n",
       "      <td>Langley</td>\n",
       "      <td>1090800</td>\n",
       "      <td>218160.0</td>\n",
       "      <td>0</td>\n",
       "      <td>590800</td>\n",
       "      <td>3469.05</td>\n",
       "      <td>21</td>\n",
       "      <td>283402.14</td>\n",
       "      <td>1374202.14</td>\n",
       "    </tr>\n",
       "    <tr>\n",
       "      <th>14</th>\n",
       "      <td>Cloverdale</td>\n",
       "      <td>1087400</td>\n",
       "      <td>217480.0</td>\n",
       "      <td>0</td>\n",
       "      <td>587400</td>\n",
       "      <td>3449.09</td>\n",
       "      <td>21</td>\n",
       "      <td>281759.15</td>\n",
       "      <td>1369159.15</td>\n",
       "    </tr>\n",
       "    <tr>\n",
       "      <th>15</th>\n",
       "      <td>Central Surrey</td>\n",
       "      <td>1086300</td>\n",
       "      <td>217260.0</td>\n",
       "      <td>0</td>\n",
       "      <td>586300</td>\n",
       "      <td>3442.63</td>\n",
       "      <td>21</td>\n",
       "      <td>281243.09</td>\n",
       "      <td>1367543.09</td>\n",
       "    </tr>\n",
       "    <tr>\n",
       "      <th>16</th>\n",
       "      <td>Ladner</td>\n",
       "      <td>1042000</td>\n",
       "      <td>208400.0</td>\n",
       "      <td>0</td>\n",
       "      <td>542000</td>\n",
       "      <td>3397.64</td>\n",
       "      <td>19</td>\n",
       "      <td>232649.56</td>\n",
       "      <td>1274649.56</td>\n",
       "    </tr>\n",
       "    <tr>\n",
       "      <th>17</th>\n",
       "      <td>Port Coquitlam</td>\n",
       "      <td>1034400</td>\n",
       "      <td>206880.0</td>\n",
       "      <td>0</td>\n",
       "      <td>534400</td>\n",
       "      <td>3474.66</td>\n",
       "      <td>18</td>\n",
       "      <td>216113.91</td>\n",
       "      <td>1250513.91</td>\n",
       "    </tr>\n",
       "    <tr>\n",
       "      <th>18</th>\n",
       "      <td>Squamish</td>\n",
       "      <td>1016600</td>\n",
       "      <td>203320.0</td>\n",
       "      <td>0</td>\n",
       "      <td>516600</td>\n",
       "      <td>3494.25</td>\n",
       "      <td>17</td>\n",
       "      <td>196215.03</td>\n",
       "      <td>1212815.03</td>\n",
       "    </tr>\n",
       "    <tr>\n",
       "      <th>19</th>\n",
       "      <td>North Surrey</td>\n",
       "      <td>1015700</td>\n",
       "      <td>203140.0</td>\n",
       "      <td>0</td>\n",
       "      <td>515700</td>\n",
       "      <td>3488.16</td>\n",
       "      <td>17</td>\n",
       "      <td>195885.00</td>\n",
       "      <td>1211585.00</td>\n",
       "    </tr>\n",
       "    <tr>\n",
       "      <th>20</th>\n",
       "      <td>Pitt Meadows</td>\n",
       "      <td>974800</td>\n",
       "      <td>72480.0</td>\n",
       "      <td>0</td>\n",
       "      <td>474800</td>\n",
       "      <td>3352.07</td>\n",
       "      <td>16</td>\n",
       "      <td>168786.28</td>\n",
       "      <td>1143586.28</td>\n",
       "    </tr>\n",
       "    <tr>\n",
       "      <th>21</th>\n",
       "      <td>North Delta</td>\n",
       "      <td>972500</td>\n",
       "      <td>72250.0</td>\n",
       "      <td>0</td>\n",
       "      <td>472500</td>\n",
       "      <td>3495.03</td>\n",
       "      <td>15</td>\n",
       "      <td>156592.67</td>\n",
       "      <td>1129092.67</td>\n",
       "    </tr>\n",
       "    <tr>\n",
       "      <th>22</th>\n",
       "      <td>Maple Ridge</td>\n",
       "      <td>884200</td>\n",
       "      <td>63420.0</td>\n",
       "      <td>0</td>\n",
       "      <td>384200</td>\n",
       "      <td>3363.78</td>\n",
       "      <td>12</td>\n",
       "      <td>100173.14</td>\n",
       "      <td>984373.14</td>\n",
       "    </tr>\n",
       "    <tr>\n",
       "      <th>23</th>\n",
       "      <td>Abbotsford</td>\n",
       "      <td>873600</td>\n",
       "      <td>62360.0</td>\n",
       "      <td>0</td>\n",
       "      <td>373600</td>\n",
       "      <td>3270.97</td>\n",
       "      <td>12</td>\n",
       "      <td>97420.42</td>\n",
       "      <td>971020.42</td>\n",
       "    </tr>\n",
       "    <tr>\n",
       "      <th>24</th>\n",
       "      <td>Mission</td>\n",
       "      <td>726000</td>\n",
       "      <td>47600.0</td>\n",
       "      <td>0</td>\n",
       "      <td>226000</td>\n",
       "      <td>3089.15</td>\n",
       "      <td>7</td>\n",
       "      <td>33488.62</td>\n",
       "      <td>759488.62</td>\n",
       "    </tr>\n",
       "  </tbody>\n",
       "</table>\n",
       "</div>"
      ],
      "text/plain": [
       "      Property/Area    Price  Minimum_Downpayment  Mortgage_Insurance  \\\n",
       "12  New Westminster  1127200             225440.0                   0   \n",
       "13          Langley  1090800             218160.0                   0   \n",
       "14       Cloverdale  1087400             217480.0                   0   \n",
       "15   Central Surrey  1086300             217260.0                   0   \n",
       "16           Ladner  1042000             208400.0                   0   \n",
       "17   Port Coquitlam  1034400             206880.0                   0   \n",
       "18         Squamish  1016600             203320.0                   0   \n",
       "19     North Surrey  1015700             203140.0                   0   \n",
       "20     Pitt Meadows   974800              72480.0                   0   \n",
       "21      North Delta   972500              72250.0                   0   \n",
       "22      Maple Ridge   884200              63420.0                   0   \n",
       "23       Abbotsford   873600              62360.0                   0   \n",
       "24          Mission   726000              47600.0                   0   \n",
       "\n",
       "    Principal  Monthly_Payment  Shortest_Amortization  Total_Interest  \\\n",
       "12     627200          3479.39                     23       333113.80   \n",
       "13     590800          3469.05                     21       283402.14   \n",
       "14     587400          3449.09                     21       281759.15   \n",
       "15     586300          3442.63                     21       281243.09   \n",
       "16     542000          3397.64                     19       232649.56   \n",
       "17     534400          3474.66                     18       216113.91   \n",
       "18     516600          3494.25                     17       196215.03   \n",
       "19     515700          3488.16                     17       195885.00   \n",
       "20     474800          3352.07                     16       168786.28   \n",
       "21     472500          3495.03                     15       156592.67   \n",
       "22     384200          3363.78                     12       100173.14   \n",
       "23     373600          3270.97                     12        97420.42   \n",
       "24     226000          3089.15                      7        33488.62   \n",
       "\n",
       "      Net_Cost  \n",
       "12  1460313.80  \n",
       "13  1374202.14  \n",
       "14  1369159.15  \n",
       "15  1367543.09  \n",
       "16  1274649.56  \n",
       "17  1250513.91  \n",
       "18  1212815.03  \n",
       "19  1211585.00  \n",
       "20  1143586.28  \n",
       "21  1129092.67  \n",
       "22   984373.14  \n",
       "23   971020.42  \n",
       "24   759488.62  "
      ]
     },
     "execution_count": 5,
     "metadata": {},
     "output_type": "execute_result"
    }
   ],
   "source": [
    "mp.property_filter(property_data = properties,\n",
    "                downpayment = 500000,\n",
    "                mortgage_rate = 4,\n",
    "                max_monthly_payment = 3500,\n",
    "                max_loan = 650000)"
   ]
  },
  {
   "cell_type": "markdown",
   "id": "southwest-bibliography",
   "metadata": {},
   "source": [
    "### We can see that no mortgage insurance is applied. In Canada, downpayments >20% of the home price do not require mortgage insurance.\n",
    "\n",
    "### We also see the shortest possible amortization periods in each area and the cumulative cost over that period.\n",
    "\n",
    "### If you'd like to look at one property or principal in particular and how price changes with parameters, base functions could be used as follows:"
   ]
  },
  {
   "cell_type": "code",
   "execution_count": 6,
   "id": "fluid-tension",
   "metadata": {},
   "outputs": [
    {
     "data": {
      "image/png": "[encoded data removed]",
      "text/plain": [
       "<Figure size 432x288 with 1 Axes>"
      ]
     },
     "metadata": {
      "needs_background": "light"
     },
     "output_type": "display_data"
    }
   ],
   "source": [
    "# How quickly does cumulative interest increase as the mortgage rate increases?\n",
    "# Assumes a consistent monthly payment.\n",
    "\n",
    "rate = np.linspace(3, 6, 20)\n",
    "interest = [mp.total_interest(principal = 650000,\n",
    "                                   mortgage_rate = i,\n",
    "                                   monthly_payment = 3600) for i in rate]\n",
    "\n",
    "plt.plot(rate, interest)\n",
    "plt.ticklabel_format(axis='y', style='plain')\n",
    "plt.xlabel('Interest Rate as %')\n",
    "plt.ylabel('Cumulative Interest')\n",
    "plt.show()\n"
   ]
  },
  {
   "cell_type": "code",
   "execution_count": 7,
   "id": "permanent-vacation",
   "metadata": {},
   "outputs": [
    {
     "data": {
      "image/png": "[encoded data removed]",
      "text/plain": [
       "<Figure size 432x288 with 1 Axes>"
      ]
     },
     "metadata": {
      "needs_background": "light"
     },
     "output_type": "display_data"
    }
   ],
   "source": [
    "# How quickly does cumulative interest increase as monthly contributions increase?\n",
    "\n",
    "payments = np.linspace(2200, 6000, 20)\n",
    "interest = [mp.total_interest(principal = 650000,\n",
    "                                   mortgage_rate = 4,\n",
    "                                   monthly_payment = p) for p in payments]\n",
    "\n",
    "plt.plot(payments, interest)\n",
    "plt.ticklabel_format(axis='y', style='plain')\n",
    "plt.xlabel('Monthly Payment Amount')\n",
    "plt.ylabel('Cumulative Interest')\n",
    "plt.show()"
   ]
  },
  {
   "cell_type": "code",
   "execution_count": 8,
   "id": "tested-representation",
   "metadata": {},
   "outputs": [
    {
     "data": {
      "image/png": "[encoded data removed]",
      "text/plain": [
       "<Figure size 432x288 with 1 Axes>"
      ]
     },
     "metadata": {
      "needs_background": "light"
     },
     "output_type": "display_data"
    }
   ],
   "source": [
    "# How many years does it take to pay off a 650,000 principal with \n",
    "# max monthly payments ranging from 2000 to 8000?\n",
    "\n",
    "payments = np.linspace(2000, 8000, 20)\n",
    "years = [mp.optimal_monthly_payment(principal = 650000,\n",
    "                                    mortgage_rate = 3.8,\n",
    "                                    max_monthly_payment = p)[1] for p in payments]\n",
    "\n",
    "plt.plot(payments, years)\n",
    "plt.ticklabel_format(axis='y', style='plain')\n",
    "plt.xlabel('Max Monthly Payment')\n",
    "plt.ylabel('Years to Pay Off')\n",
    "plt.show()"
   ]
  },
  {
   "cell_type": "code",
   "execution_count": 9,
   "id": "capital-geometry",
   "metadata": {},
   "outputs": [
    {
     "data": {
      "image/png": "[encoded data removed]",
      "text/plain": [
       "<Figure size 432x288 with 1 Axes>"
      ]
     },
     "metadata": {
      "needs_background": "light"
     },
     "output_type": "display_data"
    }
   ],
   "source": [
    "# What is the assumed function for mortgage term to rate conversion?\n",
    "\n",
    "terms = np.arange(1, 11)\n",
    "rate = [mp.mort_rate(t) for t in terms]\n",
    "    \n",
    "plt.plot(terms, rate)\n",
    "plt.ticklabel_format(axis='y', style='plain')\n",
    "plt.xlabel('Terms')\n",
    "plt.ylabel('Interest Rate as %')\n",
    "plt.show()"
   ]
  },
  {
   "cell_type": "code",
   "execution_count": 10,
   "id": "ordered-fiction",
   "metadata": {},
   "outputs": [
    {
     "data": {
      "text/plain": [
       "6580.93"
      ]
     },
     "execution_count": 10,
     "metadata": {},
     "output_type": "execute_result"
    }
   ],
   "source": [
    "# What's my monthly payment for a 10 year amortization period on a 650,000 principal adn 4% mortgage rate?\n",
    "\n",
    "mp.monthly_payment(650000, 4.0, amortization = 10)"
   ]
  },
  {
   "cell_type": "code",
   "execution_count": 11,
   "id": "unsigned-latter",
   "metadata": {},
   "outputs": [
    {
     "name": "stdout",
     "output_type": "stream",
     "text": [
      "Downpayment must be at least 5% the asset value \n",
      "Input value is too low to be legally considered.\n",
      "Downpayment must be at least 5% the asset value \n",
      "Input value is too low to be legally considered.\n"
     ]
    },
    {
     "data": {
      "image/png": "[encoded data removed]",
      "text/plain": [
       "<Figure size 432x288 with 1 Axes>"
      ]
     },
     "metadata": {
      "needs_background": "light"
     },
     "output_type": "display_data"
    }
   ],
   "source": [
    "# Whats my mortgage insurance as downpayment changes on a 1,000,000 home?\n",
    "# Notice how a message prints for downpayments < $50000, which is less than 5% the property value.\n",
    "# Also notice how at a 20% downpayment, mortgage insurance no longer applies.\n",
    "\n",
    "dp = np.linspace(40000, 250000, 28)\n",
    "mort_ins = [mp.mortgage_insurance(1000000, x) for x in dp]\n",
    "\n",
    "plt.plot(dp, mort_ins)\n",
    "plt.ticklabel_format(axis='y', style='plain')\n",
    "plt.xlabel('Downpayment on $1,000,000')\n",
    "plt.ylabel('Mortgage Insurance')\n",
    "plt.show()"
   ]
  },
  {
   "cell_type": "code",
   "execution_count": null,
   "id": "stable-ferry",
   "metadata": {},
   "outputs": [],
   "source": []
  }
 ],
 "metadata": {
  "kernelspec": {
   "display_name": "Python 3",
   "language": "python",
   "name": "python3"
  },
  "language_info": {
   "codemirror_mode": {
    "name": "ipython",
    "version": 3
   },
   "file_extension": ".py",
   "mimetype": "text/x-python",
   "name": "python",
   "nbconvert_exporter": "python",
   "pygments_lexer": "ipython3",
   "version": "3.8.3"
  }
 },
 "nbformat": 4,
 "nbformat_minor": 5
}